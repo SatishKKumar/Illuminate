{
 "cells": [
  {
   "cell_type": "code",
   "execution_count": 1,
   "metadata": {},
   "outputs": [
    {
     "name": "stderr",
     "output_type": "stream",
     "text": [
      "Using TensorFlow backend.\n"
     ]
    }
   ],
   "source": [
    "import pandas as pd\n",
    "import numpy as np\n",
    "import matplotlib.pyplot as plt\n",
    "from sklearn.feature_extraction.text import CountVectorizer\n",
    "from sklearn.model_selection import train_test_split\n",
    "from sklearn.feature_extraction.text import TfidfVectorizer\n",
    "from sklearn import metrics\n",
    "import os\n",
    "from nltk.tokenize import word_tokenize\n",
    "import nltk\n",
    "from keras import backend as K\n",
    "from keras.models import Model\n",
    "from keras.layers.core import Activation\n",
    "from keras.layers import Input, Embedding, Flatten, dot\n",
    "from keras.optimizers import Adam\n",
    "from keras.models import Sequential\n",
    "from keras import layers\n",
    "from keras.preprocessing.text import Tokenizer\n",
    "from keras.preprocessing.sequence import pad_sequences\n",
    "from keras.wrappers.scikit_learn import KerasClassifier\n",
    "from keras.regularizers import l2\n",
    "from keras.layers import Dense, Dropout"
   ]
  },
  {
   "cell_type": "code",
   "execution_count": 2,
   "metadata": {},
   "outputs": [],
   "source": [
    "dat = pd.read_csv('data.csv')\n",
    "#We pre-processed the original raw text data and stored it in another file called data.csv\n",
    "#Now we call that file\n",
    "#Dat two columns - Text and Class - 1 if the text is a question and 0 if it isn't"
   ]
  },
  {
   "cell_type": "code",
   "execution_count": 3,
   "metadata": {},
   "outputs": [
    {
     "data": {
      "text/html": [
       "<div>\n",
       "<style scoped>\n",
       "    .dataframe tbody tr th:only-of-type {\n",
       "        vertical-align: middle;\n",
       "    }\n",
       "\n",
       "    .dataframe tbody tr th {\n",
       "        vertical-align: top;\n",
       "    }\n",
       "\n",
       "    .dataframe thead th {\n",
       "        text-align: right;\n",
       "    }\n",
       "</style>\n",
       "<table border=\"1\" class=\"dataframe\">\n",
       "  <thead>\n",
       "    <tr style=\"text-align: right;\">\n",
       "      <th></th>\n",
       "      <th>Unnamed: 0</th>\n",
       "      <th>Text</th>\n",
       "      <th>Class</th>\n",
       "    </tr>\n",
       "  </thead>\n",
       "  <tbody>\n",
       "    <tr>\n",
       "      <th>0</th>\n",
       "      <td>0</td>\n",
       "      <td>what is the step by step guide to invest in sh...</td>\n",
       "      <td>1</td>\n",
       "    </tr>\n",
       "    <tr>\n",
       "      <th>1</th>\n",
       "      <td>1</td>\n",
       "      <td>what is the story of kohinoor diamond</td>\n",
       "      <td>1</td>\n",
       "    </tr>\n",
       "    <tr>\n",
       "      <th>2</th>\n",
       "      <td>2</td>\n",
       "      <td>how can i increase the speed of my internet co...</td>\n",
       "      <td>1</td>\n",
       "    </tr>\n",
       "    <tr>\n",
       "      <th>3</th>\n",
       "      <td>3</td>\n",
       "      <td>why am i mentally very lonely how can i solve it</td>\n",
       "      <td>1</td>\n",
       "    </tr>\n",
       "    <tr>\n",
       "      <th>4</th>\n",
       "      <td>4</td>\n",
       "      <td>which one dissolve in water quikly sugar salt ...</td>\n",
       "      <td>1</td>\n",
       "    </tr>\n",
       "  </tbody>\n",
       "</table>\n",
       "</div>"
      ],
      "text/plain": [
       "   Unnamed: 0                                               Text  Class\n",
       "0           0  what is the step by step guide to invest in sh...      1\n",
       "1           1              what is the story of kohinoor diamond      1\n",
       "2           2  how can i increase the speed of my internet co...      1\n",
       "3           3   why am i mentally very lonely how can i solve it      1\n",
       "4           4  which one dissolve in water quikly sugar salt ...      1"
      ]
     },
     "execution_count": 3,
     "metadata": {},
     "output_type": "execute_result"
    }
   ],
   "source": [
    "dat.head()"
   ]
  },
  {
   "cell_type": "code",
   "execution_count": 4,
   "metadata": {},
   "outputs": [],
   "source": [
    "x = dat['Text'].values\n",
    "y = dat['Class'].values"
   ]
  },
  {
   "cell_type": "code",
   "execution_count": 5,
   "metadata": {},
   "outputs": [],
   "source": [
    "x_train, x_test, y_train, y_test = train_test_split(x, y, test_size=0.25, random_state=1000)"
   ]
  },
  {
   "cell_type": "code",
   "execution_count": 6,
   "metadata": {},
   "outputs": [
    {
     "data": {
      "text/plain": [
       "CountVectorizer(analyzer='word', binary=False, decode_error='strict',\n",
       "        dtype=<class 'numpy.int64'>, encoding='utf-8', input='content',\n",
       "        lowercase=False, max_df=1.0, max_features=None, min_df=0,\n",
       "        ngram_range=(1, 1), preprocessor=None, stop_words=None,\n",
       "        strip_accents=None, token_pattern='(?u)\\\\b\\\\w\\\\w+\\\\b',\n",
       "        tokenizer=None, vocabulary=None)"
      ]
     },
     "execution_count": 6,
     "metadata": {},
     "output_type": "execute_result"
    }
   ],
   "source": [
    "vectorizer = CountVectorizer(min_df=0, lowercase=False)\n",
    "vectorizer.fit(x_train.astype(str))"
   ]
  },
  {
   "cell_type": "code",
   "execution_count": 7,
   "metadata": {},
   "outputs": [],
   "source": [
    "X_train = vectorizer.transform(x_train.astype(str))\n",
    "X_test  = vectorizer.transform(x_test.astype(str))"
   ]
  },
  {
   "cell_type": "code",
   "execution_count": 8,
   "metadata": {},
   "outputs": [
    {
     "data": {
      "text/plain": [
       "<3000x4819 sparse matrix of type '<class 'numpy.int64'>'\n",
       "\twith 21381 stored elements in Compressed Sparse Row format>"
      ]
     },
     "execution_count": 8,
     "metadata": {},
     "output_type": "execute_result"
    }
   ],
   "source": [
    "X_train"
   ]
  },
  {
   "cell_type": "code",
   "execution_count": 9,
   "metadata": {},
   "outputs": [],
   "source": [
    "model = Sequential()"
   ]
  },
  {
   "cell_type": "code",
   "execution_count": 10,
   "metadata": {},
   "outputs": [
    {
     "name": "stdout",
     "output_type": "stream",
     "text": [
      "WARNING:tensorflow:From C:\\Users\\Admin\\Anaconda3\\lib\\site-packages\\tensorflow\\python\\framework\\op_def_library.py:263: colocate_with (from tensorflow.python.framework.ops) is deprecated and will be removed in a future version.\n",
      "Instructions for updating:\n",
      "Colocations handled automatically by placer.\n"
     ]
    }
   ],
   "source": [
    "model.add(layers.Dense(10, input_dim=X_train.shape[1], activation='relu'))\n",
    "model.add(layers.Dense(1, activation='sigmoid'))"
   ]
  },
  {
   "cell_type": "code",
   "execution_count": 11,
   "metadata": {},
   "outputs": [],
   "source": [
    "model.compile(loss='binary_crossentropy',optimizer='adam',metrics=['accuracy'])"
   ]
  },
  {
   "cell_type": "code",
   "execution_count": 12,
   "metadata": {},
   "outputs": [
    {
     "name": "stdout",
     "output_type": "stream",
     "text": [
      "_________________________________________________________________\n",
      "Layer (type)                 Output Shape              Param #   \n",
      "=================================================================\n",
      "dense_1 (Dense)              (None, 10)                48200     \n",
      "_________________________________________________________________\n",
      "dense_2 (Dense)              (None, 1)                 11        \n",
      "=================================================================\n",
      "Total params: 48,211\n",
      "Trainable params: 48,211\n",
      "Non-trainable params: 0\n",
      "_________________________________________________________________\n"
     ]
    }
   ],
   "source": [
    "model.summary()"
   ]
  },
  {
   "cell_type": "code",
   "execution_count": 13,
   "metadata": {},
   "outputs": [
    {
     "name": "stdout",
     "output_type": "stream",
     "text": [
      "WARNING:tensorflow:From C:\\Users\\Admin\\Anaconda3\\lib\\site-packages\\tensorflow\\python\\ops\\math_ops.py:3066: to_int32 (from tensorflow.python.ops.math_ops) is deprecated and will be removed in a future version.\n",
      "Instructions for updating:\n",
      "Use tf.cast instead.\n",
      "Train on 3000 samples, validate on 1000 samples\n",
      "Epoch 1/100\n",
      "3000/3000 [==============================] - 2s 832us/step - loss: 0.5879 - acc: 0.7190 - val_loss: 0.4714 - val_acc: 0.8510\n",
      "Epoch 2/100\n",
      "3000/3000 [==============================] - 2s 515us/step - loss: 0.3611 - acc: 0.8873 - val_loss: 0.3798 - val_acc: 0.8590\n",
      "Epoch 3/100\n",
      "3000/3000 [==============================] - 2s 522us/step - loss: 0.2503 - acc: 0.9190 - val_loss: 0.3628 - val_acc: 0.8650\n",
      "Epoch 4/100\n",
      "3000/3000 [==============================] - 2s 581us/step - loss: 0.1911 - acc: 0.9387 - val_loss: 0.3629 - val_acc: 0.8610\n",
      "Epoch 5/100\n",
      "3000/3000 [==============================] - 2s 520us/step - loss: 0.1524 - acc: 0.9497 - val_loss: 0.3856 - val_acc: 0.8490\n",
      "Epoch 6/100\n",
      "3000/3000 [==============================] - 2s 517us/step - loss: 0.1254 - acc: 0.9600 - val_loss: 0.3818 - val_acc: 0.8480\n",
      "Epoch 7/100\n",
      "3000/3000 [==============================] - 2s 517us/step - loss: 0.1042 - acc: 0.9697 - val_loss: 0.4059 - val_acc: 0.8410\n",
      "Epoch 8/100\n",
      "3000/3000 [==============================] - 2s 517us/step - loss: 0.0886 - acc: 0.9803 - val_loss: 0.4159 - val_acc: 0.8370\n",
      "Epoch 9/100\n",
      "3000/3000 [==============================] - 2s 526us/step - loss: 0.0767 - acc: 0.9820 - val_loss: 0.4343 - val_acc: 0.8330\n",
      "Epoch 10/100\n",
      "3000/3000 [==============================] - 2s 591us/step - loss: 0.0664 - acc: 0.9837 - val_loss: 0.4597 - val_acc: 0.8230\n",
      "Epoch 11/100\n",
      "3000/3000 [==============================] - 1s 460us/step - loss: 0.0588 - acc: 0.9860 - val_loss: 0.4845 - val_acc: 0.8200\n",
      "Epoch 12/100\n",
      "3000/3000 [==============================] - 2s 509us/step - loss: 0.0526 - acc: 0.9860 - val_loss: 0.5072 - val_acc: 0.8230\n",
      "Epoch 13/100\n",
      "3000/3000 [==============================] - 2s 508us/step - loss: 0.0476 - acc: 0.9867 - val_loss: 0.5348 - val_acc: 0.8200\n",
      "Epoch 14/100\n",
      "3000/3000 [==============================] - 2s 517us/step - loss: 0.0431 - acc: 0.9873 - val_loss: 0.5596 - val_acc: 0.8150\n",
      "Epoch 15/100\n",
      "3000/3000 [==============================] - 2s 518us/step - loss: 0.0392 - acc: 0.9893 - val_loss: 0.5852 - val_acc: 0.8190\n",
      "Epoch 16/100\n",
      "3000/3000 [==============================] - 2s 506us/step - loss: 0.0366 - acc: 0.9890 - val_loss: 0.6119 - val_acc: 0.8160\n",
      "Epoch 17/100\n",
      "3000/3000 [==============================] - 2s 522us/step - loss: 0.0348 - acc: 0.9900 - val_loss: 0.6413 - val_acc: 0.8050\n",
      "Epoch 18/100\n",
      "3000/3000 [==============================] - 2s 504us/step - loss: 0.0320 - acc: 0.9913 - val_loss: 0.6608 - val_acc: 0.8070\n",
      "Epoch 19/100\n",
      "3000/3000 [==============================] - 2s 526us/step - loss: 0.0302 - acc: 0.9917 - val_loss: 0.6865 - val_acc: 0.8050\n",
      "Epoch 20/100\n",
      "3000/3000 [==============================] - 2s 529us/step - loss: 0.0290 - acc: 0.9900 - val_loss: 0.7134 - val_acc: 0.8030\n",
      "Epoch 21/100\n",
      "3000/3000 [==============================] - 1s 474us/step - loss: 0.0274 - acc: 0.9917 - val_loss: 0.7388 - val_acc: 0.8050\n",
      "Epoch 22/100\n",
      "3000/3000 [==============================] - 2s 513us/step - loss: 0.0254 - acc: 0.9927 - val_loss: 0.7696 - val_acc: 0.8070\n",
      "Epoch 23/100\n",
      "3000/3000 [==============================] - 2s 510us/step - loss: 0.0250 - acc: 0.9920 - val_loss: 0.7945 - val_acc: 0.7970\n",
      "Epoch 24/100\n",
      "3000/3000 [==============================] - 2s 517us/step - loss: 0.0245 - acc: 0.9923 - val_loss: 0.8177 - val_acc: 0.8010\n",
      "Epoch 25/100\n",
      "3000/3000 [==============================] - 2s 513us/step - loss: 0.0241 - acc: 0.9927 - val_loss: 0.8455 - val_acc: 0.8010\n",
      "Epoch 26/100\n",
      "3000/3000 [==============================] - 2s 513us/step - loss: 0.0232 - acc: 0.9920 - val_loss: 0.8691 - val_acc: 0.8000\n",
      "Epoch 27/100\n",
      "3000/3000 [==============================] - 2s 517us/step - loss: 0.0218 - acc: 0.9930 - val_loss: 0.8941 - val_acc: 0.8020\n",
      "Epoch 28/100\n",
      "3000/3000 [==============================] - 2s 518us/step - loss: 0.0213 - acc: 0.9927 - val_loss: 0.9199 - val_acc: 0.8020\n",
      "Epoch 29/100\n",
      "3000/3000 [==============================] - 2s 508us/step - loss: 0.0199 - acc: 0.9930 - val_loss: 0.9493 - val_acc: 0.7990\n",
      "Epoch 30/100\n",
      "3000/3000 [==============================] - 2s 509us/step - loss: 0.0202 - acc: 0.9920 - val_loss: 0.9741 - val_acc: 0.7950\n",
      "Epoch 31/100\n",
      "3000/3000 [==============================] - 2s 507us/step - loss: 0.0197 - acc: 0.9927 - val_loss: 0.9945 - val_acc: 0.7910\n",
      "Epoch 32/100\n",
      "3000/3000 [==============================] - 1s 484us/step - loss: 0.0196 - acc: 0.9927 - val_loss: 1.0193 - val_acc: 0.7960\n",
      "Epoch 33/100\n",
      "3000/3000 [==============================] - 2s 502us/step - loss: 0.0190 - acc: 0.9920 - val_loss: 1.0509 - val_acc: 0.7990\n",
      "Epoch 34/100\n",
      "3000/3000 [==============================] - 2s 512us/step - loss: 0.0182 - acc: 0.9927 - val_loss: 1.0690 - val_acc: 0.7860\n",
      "Epoch 35/100\n",
      "3000/3000 [==============================] - 2s 502us/step - loss: 0.0187 - acc: 0.9930 - val_loss: 1.0949 - val_acc: 0.7830\n",
      "Epoch 36/100\n",
      "3000/3000 [==============================] - 2s 507us/step - loss: 0.0182 - acc: 0.9933 - val_loss: 1.1175 - val_acc: 0.7970\n",
      "Epoch 37/100\n",
      "3000/3000 [==============================] - 1s 483us/step - loss: 0.0173 - acc: 0.9937 - val_loss: 1.1403 - val_acc: 0.7820\n",
      "Epoch 38/100\n",
      "3000/3000 [==============================] - 1s 495us/step - loss: 0.0176 - acc: 0.9923 - val_loss: 1.1626 - val_acc: 0.7830\n",
      "Epoch 39/100\n",
      "3000/3000 [==============================] - 1s 497us/step - loss: 0.0176 - acc: 0.9930 - val_loss: 1.1802 - val_acc: 0.7830\n",
      "Epoch 40/100\n",
      "3000/3000 [==============================] - 1s 499us/step - loss: 0.0169 - acc: 0.9930 - val_loss: 1.2038 - val_acc: 0.7850\n",
      "Epoch 41/100\n",
      "3000/3000 [==============================] - 2s 502us/step - loss: 0.0170 - acc: 0.9927 - val_loss: 1.2276 - val_acc: 0.7840\n",
      "Epoch 42/100\n",
      "3000/3000 [==============================] - 1s 452us/step - loss: 0.0160 - acc: 0.9937 - val_loss: 1.2553 - val_acc: 0.7860\n",
      "Epoch 43/100\n",
      "3000/3000 [==============================] - 1s 491us/step - loss: 0.0165 - acc: 0.9923 - val_loss: 1.2696 - val_acc: 0.7820\n",
      "Epoch 44/100\n",
      "3000/3000 [==============================] - 1s 493us/step - loss: 0.0164 - acc: 0.9937 - val_loss: 1.2943 - val_acc: 0.7790\n",
      "Epoch 45/100\n",
      "3000/3000 [==============================] - 2s 501us/step - loss: 0.0159 - acc: 0.9933 - val_loss: 1.3111 - val_acc: 0.7810\n",
      "Epoch 46/100\n",
      "3000/3000 [==============================] - 1s 494us/step - loss: 0.0155 - acc: 0.9937 - val_loss: 1.3329 - val_acc: 0.7800\n",
      "Epoch 47/100\n",
      "3000/3000 [==============================] - 1s 500us/step - loss: 0.0153 - acc: 0.9937 - val_loss: 1.3612 - val_acc: 0.7750\n",
      "Epoch 48/100\n",
      "3000/3000 [==============================] - 2s 504us/step - loss: 0.0164 - acc: 0.9930 - val_loss: 1.3752 - val_acc: 0.7760\n",
      "Epoch 49/100\n",
      "3000/3000 [==============================] - 1s 491us/step - loss: 0.0153 - acc: 0.9933 - val_loss: 1.3965 - val_acc: 0.7730\n",
      "Epoch 50/100\n",
      "3000/3000 [==============================] - 1s 492us/step - loss: 0.0155 - acc: 0.9930 - val_loss: 1.4165 - val_acc: 0.7760\n",
      "Epoch 51/100\n",
      "3000/3000 [==============================] - 1s 491us/step - loss: 0.0153 - acc: 0.9933 - val_loss: 1.4407 - val_acc: 0.7740\n",
      "Epoch 52/100\n",
      "3000/3000 [==============================] - 1s 496us/step - loss: 0.0157 - acc: 0.9930 - val_loss: 1.4516 - val_acc: 0.7720\n",
      "Epoch 53/100\n",
      "3000/3000 [==============================] - 1s 450us/step - loss: 0.0154 - acc: 0.9930 - val_loss: 1.4735 - val_acc: 0.7690\n",
      "Epoch 54/100\n",
      "3000/3000 [==============================] - 1s 481us/step - loss: 0.0150 - acc: 0.9937 - val_loss: 1.4932 - val_acc: 0.7680\n",
      "Epoch 55/100\n",
      "3000/3000 [==============================] - 1s 487us/step - loss: 0.0149 - acc: 0.9927 - val_loss: 1.5109 - val_acc: 0.7720\n",
      "Epoch 56/100\n",
      "3000/3000 [==============================] - 1s 493us/step - loss: 0.0148 - acc: 0.9930 - val_loss: 1.5239 - val_acc: 0.7710\n",
      "Epoch 57/100\n",
      "3000/3000 [==============================] - 1s 481us/step - loss: 0.0144 - acc: 0.9930 - val_loss: 1.5550 - val_acc: 0.7640\n",
      "Epoch 58/100\n"
     ]
    },
    {
     "name": "stdout",
     "output_type": "stream",
     "text": [
      "3000/3000 [==============================] - 2s 526us/step - loss: 0.0147 - acc: 0.9937 - val_loss: 1.5645 - val_acc: 0.7650\n",
      "Epoch 59/100\n",
      "3000/3000 [==============================] - 2s 524us/step - loss: 0.0145 - acc: 0.9927 - val_loss: 1.5897 - val_acc: 0.7610\n",
      "Epoch 60/100\n",
      "3000/3000 [==============================] - 2s 524us/step - loss: 0.0143 - acc: 0.9933 - val_loss: 1.6066 - val_acc: 0.7610\n",
      "Epoch 61/100\n",
      "3000/3000 [==============================] - 2s 524us/step - loss: 0.0145 - acc: 0.9933 - val_loss: 1.6266 - val_acc: 0.7600\n",
      "Epoch 62/100\n",
      "3000/3000 [==============================] - 2s 527us/step - loss: 0.0145 - acc: 0.9927 - val_loss: 1.6437 - val_acc: 0.7620\n",
      "Epoch 63/100\n",
      "3000/3000 [==============================] - 2s 530us/step - loss: 0.0143 - acc: 0.9930 - val_loss: 1.6657 - val_acc: 0.7600\n",
      "Epoch 64/100\n",
      "3000/3000 [==============================] - 1s 477us/step - loss: 0.0139 - acc: 0.9933 - val_loss: 1.6838 - val_acc: 0.7610\n",
      "Epoch 65/100\n",
      "3000/3000 [==============================] - 2s 530us/step - loss: 0.0138 - acc: 0.9937 - val_loss: 1.7100 - val_acc: 0.7590\n",
      "Epoch 66/100\n",
      "3000/3000 [==============================] - 2s 513us/step - loss: 0.0140 - acc: 0.9930 - val_loss: 1.7270 - val_acc: 0.7600\n",
      "Epoch 67/100\n",
      "3000/3000 [==============================] - 2s 526us/step - loss: 0.0145 - acc: 0.9923 - val_loss: 1.7436 - val_acc: 0.7560\n",
      "Epoch 68/100\n",
      "3000/3000 [==============================] - 2s 520us/step - loss: 0.0141 - acc: 0.9927 - val_loss: 1.7609 - val_acc: 0.7570\n",
      "Epoch 69/100\n",
      "3000/3000 [==============================] - 2s 517us/step - loss: 0.0137 - acc: 0.9933 - val_loss: 1.7748 - val_acc: 0.7580\n",
      "Epoch 70/100\n",
      "3000/3000 [==============================] - 2s 525us/step - loss: 0.0137 - acc: 0.9937 - val_loss: 1.7885 - val_acc: 0.7580\n",
      "Epoch 71/100\n",
      "3000/3000 [==============================] - 2s 523us/step - loss: 0.0136 - acc: 0.9943 - val_loss: 1.8200 - val_acc: 0.7550\n",
      "Epoch 72/100\n",
      "3000/3000 [==============================] - 2s 513us/step - loss: 0.0135 - acc: 0.9933 - val_loss: 1.8239 - val_acc: 0.7570\n",
      "Epoch 73/100\n",
      "3000/3000 [==============================] - 2s 524us/step - loss: 0.0142 - acc: 0.9923 - val_loss: 1.8463 - val_acc: 0.7560\n",
      "Epoch 74/100\n",
      "3000/3000 [==============================] - 1s 469us/step - loss: 0.0136 - acc: 0.9933 - val_loss: 1.8599 - val_acc: 0.7550\n",
      "Epoch 75/100\n",
      "3000/3000 [==============================] - 2s 517us/step - loss: 0.0140 - acc: 0.9933 - val_loss: 1.8901 - val_acc: 0.7560\n",
      "Epoch 76/100\n",
      "3000/3000 [==============================] - 2s 519us/step - loss: 0.0135 - acc: 0.9940 - val_loss: 1.8983 - val_acc: 0.7500\n",
      "Epoch 77/100\n",
      "3000/3000 [==============================] - 2s 506us/step - loss: 0.0133 - acc: 0.9927 - val_loss: 1.9173 - val_acc: 0.7470\n",
      "Epoch 78/100\n",
      "3000/3000 [==============================] - 2s 515us/step - loss: 0.0142 - acc: 0.9923 - val_loss: 1.9416 - val_acc: 0.7490\n",
      "Epoch 79/100\n",
      "3000/3000 [==============================] - 2s 502us/step - loss: 0.0136 - acc: 0.9930 - val_loss: 1.9590 - val_acc: 0.7490\n",
      "Epoch 80/100\n",
      "3000/3000 [==============================] - 2s 504us/step - loss: 0.0137 - acc: 0.9930 - val_loss: 1.9785 - val_acc: 0.7500\n",
      "Epoch 81/100\n",
      "3000/3000 [==============================] - 1s 495us/step - loss: 0.0131 - acc: 0.9937 - val_loss: 1.9821 - val_acc: 0.7420\n",
      "Epoch 82/100\n",
      "3000/3000 [==============================] - 1s 478us/step - loss: 0.0137 - acc: 0.9937 - val_loss: 1.9968 - val_acc: 0.7430\n",
      "Epoch 83/100\n",
      "3000/3000 [==============================] - 1s 480us/step - loss: 0.0130 - acc: 0.9940 - val_loss: 2.0209 - val_acc: 0.7450\n",
      "Epoch 84/100\n",
      "3000/3000 [==============================] - 1s 480us/step - loss: 0.0128 - acc: 0.9937 - val_loss: 2.0331 - val_acc: 0.7410\n",
      "Epoch 85/100\n",
      "3000/3000 [==============================] - 1s 464us/step - loss: 0.0135 - acc: 0.9937 - val_loss: 2.0484 - val_acc: 0.7400\n",
      "Epoch 86/100\n",
      "3000/3000 [==============================] - 1s 477us/step - loss: 0.0137 - acc: 0.9937 - val_loss: 2.0589 - val_acc: 0.7410\n",
      "Epoch 87/100\n",
      "3000/3000 [==============================] - 1s 474us/step - loss: 0.0133 - acc: 0.9937 - val_loss: 2.0828 - val_acc: 0.7410\n",
      "Epoch 88/100\n",
      "3000/3000 [==============================] - 1s 491us/step - loss: 0.0138 - acc: 0.9927 - val_loss: 2.0966 - val_acc: 0.7390\n",
      "Epoch 89/100\n",
      "3000/3000 [==============================] - 1s 462us/step - loss: 0.0131 - acc: 0.9937 - val_loss: 2.1149 - val_acc: 0.7440\n",
      "Epoch 90/100\n",
      "3000/3000 [==============================] - 1s 469us/step - loss: 0.0127 - acc: 0.9943 - val_loss: 2.1178 - val_acc: 0.7390\n",
      "Epoch 91/100\n",
      "3000/3000 [==============================] - 1s 477us/step - loss: 0.0134 - acc: 0.9933 - val_loss: 2.1399 - val_acc: 0.7390\n",
      "Epoch 92/100\n",
      "3000/3000 [==============================] - 2s 501us/step - loss: 0.0134 - acc: 0.9930 - val_loss: 2.1526 - val_acc: 0.7370\n",
      "Epoch 93/100\n",
      "3000/3000 [==============================] - 1s 474us/step - loss: 0.0130 - acc: 0.9937 - val_loss: 2.1604 - val_acc: 0.7380\n",
      "Epoch 94/100\n",
      "3000/3000 [==============================] - 1s 489us/step - loss: 0.0131 - acc: 0.9933 - val_loss: 2.1706 - val_acc: 0.7350\n",
      "Epoch 95/100\n",
      "3000/3000 [==============================] - 1s 494us/step - loss: 0.0129 - acc: 0.9927 - val_loss: 2.1957 - val_acc: 0.7380\n",
      "Epoch 96/100\n",
      "3000/3000 [==============================] - 1s 455us/step - loss: 0.0131 - acc: 0.9927 - val_loss: 2.1993 - val_acc: 0.7350\n",
      "Epoch 97/100\n",
      "3000/3000 [==============================] - 1s 495us/step - loss: 0.0134 - acc: 0.9927 - val_loss: 2.2062 - val_acc: 0.7390\n",
      "Epoch 98/100\n",
      "3000/3000 [==============================] - 1s 483us/step - loss: 0.0133 - acc: 0.9940 - val_loss: 2.2280 - val_acc: 0.7380\n",
      "Epoch 99/100\n",
      "3000/3000 [==============================] - 1s 498us/step - loss: 0.0128 - acc: 0.9940 - val_loss: 2.2371 - val_acc: 0.7370\n",
      "Epoch 100/100\n",
      "3000/3000 [==============================] - 1s 493us/step - loss: 0.0130 - acc: 0.9933 - val_loss: 2.2535 - val_acc: 0.7350\n"
     ]
    }
   ],
   "source": [
    "model_output = model.fit(X_train, y_train,epochs=100,verbose=True,validation_data=(X_test, y_test),batch_size=10)"
   ]
  },
  {
   "cell_type": "code",
   "execution_count": 14,
   "metadata": {},
   "outputs": [],
   "source": [
    "test=['How much does a tutor earn in Bangalore?','How well are you adapting to the Trump era?']"
   ]
  },
  {
   "cell_type": "code",
   "execution_count": 15,
   "metadata": {},
   "outputs": [],
   "source": [
    "test_count=vectorizer.transform(test)"
   ]
  },
  {
   "cell_type": "code",
   "execution_count": 16,
   "metadata": {},
   "outputs": [
    {
     "data": {
      "text/plain": [
       "array([[1.       ],\n",
       "       [0.9999348]], dtype=float32)"
      ]
     },
     "execution_count": 16,
     "metadata": {},
     "output_type": "execute_result"
    }
   ],
   "source": [
    "model.predict(test_count)"
   ]
  },
  {
   "cell_type": "code",
   "execution_count": null,
   "metadata": {},
   "outputs": [],
   "source": []
  },
  {
   "cell_type": "code",
   "execution_count": null,
   "metadata": {},
   "outputs": [],
   "source": []
  },
  {
   "cell_type": "code",
   "execution_count": null,
   "metadata": {},
   "outputs": [],
   "source": []
  },
  {
   "cell_type": "code",
   "execution_count": null,
   "metadata": {},
   "outputs": [],
   "source": []
  },
  {
   "cell_type": "code",
   "execution_count": null,
   "metadata": {},
   "outputs": [],
   "source": []
  }
 ],
 "metadata": {
  "kernelspec": {
   "display_name": "Python 3",
   "language": "python",
   "name": "python3"
  },
  "language_info": {
   "codemirror_mode": {
    "name": "ipython",
    "version": 3
   },
   "file_extension": ".py",
   "mimetype": "text/x-python",
   "name": "python",
   "nbconvert_exporter": "python",
   "pygments_lexer": "ipython3",
   "version": "3.7.3"
  }
 },
 "nbformat": 4,
 "nbformat_minor": 2
}
